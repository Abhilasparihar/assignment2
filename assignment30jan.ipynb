{
 "cells": [
  {
   "cell_type": "code",
   "execution_count": 1,
   "id": "c4a0f0b1-3479-47e6-83e0-2c3963e0da86",
   "metadata": {},
   "outputs": [
    {
     "name": "stdin",
     "output_type": "stream",
     "text": [
      "enter number 90\n"
     ]
    },
    {
     "name": "stdout",
     "output_type": "stream",
     "text": [
      "B\n"
     ]
    }
   ],
   "source": [
    "# que. 1 / ans \n",
    "\n",
    "marks = int(input(\"enter number\"))\n",
    "if marks > 90 :\n",
    "    print(\"A\")\n",
    "elif marks > 80 and marks <=90:\n",
    "    print(\"B\")\n",
    "elif marks >= 60 and marks <= 80:\n",
    "    print(\"c\")\n",
    "else:\n",
    "    print(\"D\")"
   ]
  },
  {
   "cell_type": "code",
   "execution_count": 5,
   "id": "4d6e31cd-d807-4803-965d-7588b758c2d0",
   "metadata": {},
   "outputs": [
    {
     "name": "stdin",
     "output_type": "stream",
     "text": [
      "enter the price 9\n"
     ]
    },
    {
     "name": "stdout",
     "output_type": "stream",
     "text": [
      "5% to be paid\n"
     ]
    }
   ],
   "source": [
    "# que . 2 / ans\n",
    "\n",
    "cost = int(input(\"enter the price\"))\n",
    "if cost > 100000 :\n",
    "    print(\"15% tax to be paid\")\n",
    "elif cost > 50000 and cost <= 100000 :\n",
    "    print(\"10% tax to be paid\")\n",
    "elif cost <= 50000 :\n",
    "    print(\"5% to be paid\")\n"
   ]
  },
  {
   "cell_type": "code",
   "execution_count": 1,
   "id": "ed83cb20-4d1e-4c20-a830-cf687b3708e2",
   "metadata": {},
   "outputs": [
    {
     "name": "stdin",
     "output_type": "stream",
     "text": [
      "enter the city jaipur\n"
     ]
    },
    {
     "name": "stdout",
     "output_type": "stream",
     "text": [
      "jal mahal\n"
     ]
    }
   ],
   "source": [
    "# que . 3 / ans\n",
    "\n",
    "city = input(\"enter the city\")\n",
    "if city == \"delhi\" :\n",
    "    print(\"red fort\")\n",
    "elif city == \"agra\":\n",
    "    print(\"taz mahal\")\n",
    "elif city == \"jaipur\":\n",
    "    print(\"jal mahal\")"
   ]
  },
  {
   "cell_type": "code",
   "execution_count": 7,
   "id": "0d74b51c-0853-4211-834d-8664a7596a0a",
   "metadata": {},
   "outputs": [
    {
     "name": "stdin",
     "output_type": "stream",
     "text": [
      " enter the number 120\n"
     ]
    },
    {
     "data": {
      "text/plain": [
       "2"
      ]
     },
     "execution_count": 7,
     "metadata": {},
     "output_type": "execute_result"
    }
   ],
   "source": [
    "# que . 4 / ans\n",
    "\n",
    "n = int(input(\" enter the number\"))\n",
    "divide = 0 \n",
    "while n/3 > 10 :\n",
    "    n = n/3\n",
    "    divide = divide + 1\n",
    "divide"
   ]
  },
  {
   "cell_type": "code",
   "execution_count": null,
   "id": "1ccd628f-d2f8-4fd5-9107-96a57de756cc",
   "metadata": {},
   "outputs": [],
   "source": [
    "# que . 5 / ans\n",
    "\n",
    "The while lop in python in used when you want to repeatedly execute a block of code as long as a certain condition is true.\n",
    "When the number of iterations is not known in advance: If you don't have a fixed number of iterations and need to keep executing\n",
    "a block of code until a specific condition is met, the while loop is a good choice. You can set up the condition based on dynamic\n",
    "factors that may change during the loop execution.\n",
    "and When you want to create a loop with a variable termination condition: The while loop allows you to define a condition that,\n",
    "when evaluated as False, terminates the loop. This condition can be based on a counter, user input, or any other variable or \n",
    "expression that can change during the loop execution.\n",
    "When you need to implement a control structure that requires continuous evaluation: The while loop is suitable for scenarios\n",
    "where you need continuous monitoring and evaluation of a condition to decide whether to continue or exit the loop.\n",
    "This can be useful in tasks such as reading data from a file or socket, performing real-time data processing, or waiting for a\n",
    "specific event to occur.\n",
    "\n",
    "Example : \n",
    "count = 0\n",
    "while count < 5:\n",
    "    print(\"Count:\", count)\n",
    "    count = count + 1\n",
    "    "
   ]
  },
  {
   "cell_type": "code",
   "execution_count": 12,
   "id": "c562a0fc-048d-4ea6-9c2f-b07ac17ab560",
   "metadata": {},
   "outputs": [
    {
     "name": "stdout",
     "output_type": "stream",
     "text": [
      "* * * * * \n",
      "* * * * * \n",
      "* * * * * \n",
      "* * * * * \n",
      "* * * * * \n"
     ]
    }
   ],
   "source": [
    "#Que . 6 / ans\n",
    "\n",
    "size = 5\n",
    "row = 1\n",
    "while row <= size:\n",
    "    col = 1\n",
    "    while col <= size :\n",
    "        print('*', end = ' ')\n",
    "        col = col + 1\n",
    "    print()\n",
    "    row = row + 1\n",
    "    "
   ]
  },
  {
   "cell_type": "code",
   "execution_count": 3,
   "id": "730c92a5-2a00-40dc-b53a-e1efc6954f19",
   "metadata": {},
   "outputs": [
    {
     "name": "stdout",
     "output_type": "stream",
     "text": [
      "10\n",
      "9\n",
      "8\n",
      "7\n",
      "6\n",
      "5\n",
      "4\n",
      "3\n",
      "2\n",
      "1\n"
     ]
    }
   ],
   "source": [
    "#Que . 7 / ans\n",
    "\n",
    "num = 10\n",
    "while num >= 1:\n",
    "    print(num)\n",
    "    num = num - 1"
   ]
  },
  {
   "cell_type": "code",
   "execution_count": null,
   "id": "9d56d0f9-9edf-4d8a-b560-69fefaedab3d",
   "metadata": {},
   "outputs": [],
   "source": []
  }
 ],
 "metadata": {
  "kernelspec": {
   "display_name": "Python 3 (ipykernel)",
   "language": "python",
   "name": "python3"
  },
  "language_info": {
   "codemirror_mode": {
    "name": "ipython",
    "version": 3
   },
   "file_extension": ".py",
   "mimetype": "text/x-python",
   "name": "python",
   "nbconvert_exporter": "python",
   "pygments_lexer": "ipython3",
   "version": "3.10.8"
  }
 },
 "nbformat": 4,
 "nbformat_minor": 5
}
